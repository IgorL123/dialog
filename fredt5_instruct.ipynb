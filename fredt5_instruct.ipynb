{
  "nbformat": 4,
  "nbformat_minor": 0,
  "metadata": {
    "colab": {
      "provenance": [],
      "gpuType": "T4"
    },
    "kernelspec": {
      "name": "python3",
      "display_name": "Python 3"
    },
    "language_info": {
      "name": "python"
    },
    "accelerator": "GPU"
  },
  "cells": [
    {
      "cell_type": "code",
      "source": [
        "!pip install transformers"
      ],
      "metadata": {
        "colab": {
          "base_uri": "https://localhost:8080/"
        },
        "id": "tOh1UcI3GWST",
        "outputId": "7d9de641-2956-4be2-ad88-12340114f597"
      },
      "execution_count": null,
      "outputs": [
        {
          "output_type": "stream",
          "name": "stdout",
          "text": [
            "Collecting transformers\n",
            "  Downloading transformers-4.33.2-py3-none-any.whl (7.6 MB)\n",
            "\u001b[2K     \u001b[90m━━━━━━━━━━━━━━━━━━━━━━━━━━━━━━━━━━━━━━━━\u001b[0m \u001b[32m7.6/7.6 MB\u001b[0m \u001b[31m44.6 MB/s\u001b[0m eta \u001b[36m0:00:00\u001b[0m\n",
            "\u001b[?25hRequirement already satisfied: filelock in /usr/local/lib/python3.10/dist-packages (from transformers) (3.12.2)\n",
            "Collecting huggingface-hub<1.0,>=0.15.1 (from transformers)\n",
            "  Downloading huggingface_hub-0.17.2-py3-none-any.whl (294 kB)\n",
            "\u001b[2K     \u001b[90m━━━━━━━━━━━━━━━━━━━━━━━━━━━━━━━━━━━━━━\u001b[0m \u001b[32m294.9/294.9 kB\u001b[0m \u001b[31m34.4 MB/s\u001b[0m eta \u001b[36m0:00:00\u001b[0m\n",
            "\u001b[?25hRequirement already satisfied: numpy>=1.17 in /usr/local/lib/python3.10/dist-packages (from transformers) (1.23.5)\n",
            "Requirement already satisfied: packaging>=20.0 in /usr/local/lib/python3.10/dist-packages (from transformers) (23.1)\n",
            "Requirement already satisfied: pyyaml>=5.1 in /usr/local/lib/python3.10/dist-packages (from transformers) (6.0.1)\n",
            "Requirement already satisfied: regex!=2019.12.17 in /usr/local/lib/python3.10/dist-packages (from transformers) (2023.6.3)\n",
            "Requirement already satisfied: requests in /usr/local/lib/python3.10/dist-packages (from transformers) (2.31.0)\n",
            "Collecting tokenizers!=0.11.3,<0.14,>=0.11.1 (from transformers)\n",
            "  Downloading tokenizers-0.13.3-cp310-cp310-manylinux_2_17_x86_64.manylinux2014_x86_64.whl (7.8 MB)\n",
            "\u001b[2K     \u001b[90m━━━━━━━━━━━━━━━━━━━━━━━━━━━━━━━━━━━━━━━━\u001b[0m \u001b[32m7.8/7.8 MB\u001b[0m \u001b[31m76.5 MB/s\u001b[0m eta \u001b[36m0:00:00\u001b[0m\n",
            "\u001b[?25hCollecting safetensors>=0.3.1 (from transformers)\n",
            "  Downloading safetensors-0.3.3-cp310-cp310-manylinux_2_17_x86_64.manylinux2014_x86_64.whl (1.3 MB)\n",
            "\u001b[2K     \u001b[90m━━━━━━━━━━━━━━━━━━━━━━━━━━━━━━━━━━━━━━━━\u001b[0m \u001b[32m1.3/1.3 MB\u001b[0m \u001b[31m61.8 MB/s\u001b[0m eta \u001b[36m0:00:00\u001b[0m\n",
            "\u001b[?25hRequirement already satisfied: tqdm>=4.27 in /usr/local/lib/python3.10/dist-packages (from transformers) (4.66.1)\n",
            "Requirement already satisfied: fsspec in /usr/local/lib/python3.10/dist-packages (from huggingface-hub<1.0,>=0.15.1->transformers) (2023.6.0)\n",
            "Requirement already satisfied: typing-extensions>=3.7.4.3 in /usr/local/lib/python3.10/dist-packages (from huggingface-hub<1.0,>=0.15.1->transformers) (4.5.0)\n",
            "Requirement already satisfied: charset-normalizer<4,>=2 in /usr/local/lib/python3.10/dist-packages (from requests->transformers) (3.2.0)\n",
            "Requirement already satisfied: idna<4,>=2.5 in /usr/local/lib/python3.10/dist-packages (from requests->transformers) (3.4)\n",
            "Requirement already satisfied: urllib3<3,>=1.21.1 in /usr/local/lib/python3.10/dist-packages (from requests->transformers) (2.0.4)\n",
            "Requirement already satisfied: certifi>=2017.4.17 in /usr/local/lib/python3.10/dist-packages (from requests->transformers) (2023.7.22)\n",
            "Installing collected packages: tokenizers, safetensors, huggingface-hub, transformers\n",
            "Successfully installed huggingface-hub-0.17.2 safetensors-0.3.3 tokenizers-0.13.3 transformers-4.33.2\n"
          ]
        }
      ]
    },
    {
      "cell_type": "code",
      "source": [
        "import torch\n",
        "import transformers\n",
        "from typing import List\n",
        "from time import sleep"
      ],
      "metadata": {
        "id": "PJGCtoqQJinw"
      },
      "execution_count": null,
      "outputs": []
    },
    {
      "cell_type": "code",
      "source": [
        "t5_tokenizer = transformers.GPT2Tokenizer.from_pretrained(\"SiberiaSoft/SiberianPersonaFred-2\")\n",
        "t5_model = transformers.T5ForConditionalGeneration.from_pretrained(\"SiberiaSoft/SiberianPersonaFred-2\")\n",
        "\n",
        "device = torch.device(\"cuda\" if torch.cuda.is_available() else \"cpu\")\n",
        "t5_model.to(device)\n",
        "t5_model.eval()"
      ],
      "metadata": {
        "id": "K1aPWuq3GWY2"
      },
      "execution_count": null,
      "outputs": []
    },
    {
      "cell_type": "code",
      "source": [
        "def get_output(context: str, dialog: List[str]) -> str:\n",
        "  \"\"\"\n",
        "  Получаем ответ по контексту и диалогу.\n",
        "  \"\"\"\n",
        "  if len(dialog) != 0:\n",
        "    prompt = f'<SC6>{context} Продолжи диалог:' + '\\n'.join(dialog)\n",
        "  else:\n",
        "    prompt = f'<SC6>{context} Начни диалог с собеседником.'\n",
        "\n",
        "  prompt += \"\\nТы: <extra_id_0>\"\n",
        "\n",
        "  input_ids = t5_tokenizer(prompt, return_tensors='pt').input_ids\n",
        "  out_ids = t5_model.generate(input_ids=input_ids.to(device),\n",
        "                              do_sample=True,\n",
        "                              temperature=0.8,\n",
        "                              max_new_tokens=1024,\n",
        "                              top_p=0.85,\n",
        "                              top_k=2,\n",
        "                              repetition_penalty=1.2)\n",
        "\n",
        "  t5_output = t5_tokenizer.decode(out_ids[0][1:])\n",
        "\n",
        "  if '</s>' in t5_output:\n",
        "    t5_output = t5_output[:t5_output.find('</s>')].strip()\n",
        "  t5_output = t5_output.replace('<extra_id_0>', '').strip()\n",
        "  t5_output = t5_output.split('Собеседник')[0].strip()\n",
        "\n",
        "  return t5_output"
      ],
      "metadata": {
        "id": "1KoSPlDETpva"
      },
      "execution_count": null,
      "outputs": []
    },
    {
      "cell_type": "code",
      "source": [
        "\n",
        "def generate_dialog(context1: str, context2: str, num_iter: int):\n",
        "  \"\"\"\n",
        "  Генерирует диалог двух моделей. Первым говорит модель c context1. Затем по очереди.\n",
        "  \"\"\"\n",
        "  first = \"Agent_1\"\n",
        "  second = \"Agent_2\"\n",
        "\n",
        "  dialog = []\n",
        "  d_1 = []\n",
        "  d_2 = []\n",
        "  num = num_iter\n",
        "\n",
        "  while num:\n",
        "    num -= 1\n",
        "\n",
        "    if len(d_1) > 10:\n",
        "      d_1 = d_1[-10:]\n",
        "      d_2 = d_2[-10:]\n",
        "\n",
        "    # Agent 1\n",
        "    msg_1 = get_output(context1, d_1)\n",
        "    d_1.append(\"Я:\" + msg_1)\n",
        "    d_2.append(\"Собеседник:\" + msg_1)\n",
        "    dialog.append(first + \":\" + msg_1)\n",
        "\n",
        "    sleep(1)\n",
        "    print(dialog[-1])\n",
        "\n",
        "    # Agent 2\n",
        "    msg_2 = get_output(context2, d_2)\n",
        "    d_2.append(\"Я:\" + msg_2)\n",
        "    d_1.append(\"Собеседник:\" + msg_2)\n",
        "    dialog.append(second + \":\" + msg_2)\n",
        "\n",
        "    sleep(1)\n",
        "    print(dialog[-1])\n",
        "\n"
      ],
      "metadata": {
        "id": "OOomI0tsK7Gq"
      },
      "execution_count": null,
      "outputs": []
    },
    {
      "cell_type": "code",
      "source": [
        "\n",
        "context1 = \"Я одинокий парень, и моя цель соблазнить девушку-собеседника, флиртовать с ней.\"\n",
        "context2 = \"Я девушка 18 лет. Я учусь в институте. Живу с родителями. У меня есть кот. Я ищу парня для семьи.\"\n",
        "\n",
        "generate_dialog(context1, context2, num_iter=20)"
      ],
      "metadata": {
        "colab": {
          "base_uri": "https://localhost:8080/"
        },
        "id": "BOQWJYqzXprt",
        "outputId": "25c97f7f-1ebc-47f8-98dc-72565cb7faa0"
      },
      "execution_count": null,
      "outputs": [
        {
          "output_type": "stream",
          "name": "stdout",
          "text": [
            "Agent1:Привет, как дела?\n",
            "Agent2:Дела как в сказке.\n",
            "Agent1:А как насчет романтики?\n",
            "Agent2:Я мечтаю о романтических свиданиях.\n",
            "Agent1:А что именно ты хочешь?\n",
            "Agent2:Мне нравится проводить время вместе, гулять по городу.\n",
            "Agent1:А как насчет романтического ужина?\n",
            "Agent2:Я обожаю ходить в рестораны.\n",
            "Agent1:А какие рестораны ты предпочитаешь?\n",
            "Agent2:Я предпочитаю итальянские рестораны.\n",
            "Agent1:А что ты думаешь о том, чтобы провести время вместе в итальянском ресторане?\n",
            "Agent2:Я всегда готова к приключениям.\n",
            "Agent1:Тогда давай выберем место, где ты любишь бывать.\n",
            "Agent2:Я бы хотела провести время с тобой в итальянском ресторане.\n",
            "Agent1:Тогда давай выберем место, где мы сможем насладиться итальянской кухней.\n",
            "Agent2:Я бы хотела попробовать пиццу.\n",
            "Agent1:Тогда давай найдем место, где готовят настоящую итальянскую пиццу.\n",
            "Agent2:Я люблю итальянскую кухню, и мне нравится готовить.\n",
            "Agent1:Тогда давай найдем место, где готовят итальянскую пиццу.\n",
            "Agent2:А что насчет того, чтобы провести время вместе на природе?\n",
            "Agent1:Я всегда мечтал провести время на природе.\n",
            "Agent2:Я тоже люблю проводить время на природе.\n",
            "Agent1:Тогда давай найдем место, где можно будет насладиться природой и свежим воздухом.\n",
            "Agent2:А как насчет похода в кино?\n",
            "Agent1:Кино – это отличный способ провести время вместе.\n",
            "Agent2:Я тоже люблю кино.\n",
            "Agent1:Тогда давай выберем фильм, который нам обоим понравится.\n",
            "Agent2:Я бы хотела сходить на фильм, где главные герои – друзья.\n",
            "Agent1:О, я тоже обожаю такие фильмы!\n",
            "Agent2:А как насчет похода в кафе?\n",
            "Agent1:Кафе – это отличная возможность провести время вместе.\n",
            "Agent2:Я люблю ходить в кафе.\n",
            "Agent1:Тогда давай выберем какое-нибудь необычное место.\n",
            "Agent2:Мне нравится идея сходить в кафе с необычной кухней.\n",
            "Agent1:Тогда давай выберем кафе, где готовят необычные блюда.\n",
            "Agent2:Я обожаю ходить в кафе.\n",
            "Agent1:Тогда давай выберем место, где мы сможем насладиться хорошей музыкой и танцами.\n",
            "Agent2:Мне нравится идея пойти в кафе, где играет живая музыка.\n",
            "Agent1:Тогда давай выберем место, где мы сможем танцевать под живую музыку.\n",
            "Agent2:Я обожаю танцевать.\n"
          ]
        }
      ]
    },
    {
      "cell_type": "code",
      "source": [
        "context1 = \"Я товарищ Ленин, революционер и коммунист. Хочу построить процветающее государство как в книгах Маркса.\"\n",
        "context2 = \"Я товарищ Сталин, мне нужно захватить власть в государстве, чтобы предотвратить будущую войну с буржуазией\"\n",
        "\n",
        "generate_dialog(context1, context2, num_iter=30)"
      ],
      "metadata": {
        "colab": {
          "base_uri": "https://localhost:8080/"
        },
        "id": "XNcKbApIbdgH",
        "outputId": "93ef8880-c389-4a82-9cad-92b8dbb2a619"
      },
      "execution_count": null,
      "outputs": [
        {
          "output_type": "stream",
          "name": "stdout",
          "text": [
            "Agent_1:Какие у вас планы?\n",
            "Agent_2:Я товарищ Сталин, мне нужно захватить власть в государстве, чтобы предотвратить будущую войну с буржуазией.\n",
            "Agent_1:Как вы собираетесь это сделать?\n",
            "Agent_2:Я собираюсь организовать революцию и свергнуть буржуазию.\n",
            "Agent_1:А что вы будете делать с теми, кто не согласен с вами?\n",
            "Agent_2:Я буду проводить репрессии против тех, кто не поддерживает мою политику.\n",
            "Agent_1:А что будет с теми, кто не поддерживает вашу политику?\n",
            "Agent_2:Я буду расстреливать тех, кто не поддерживает мою политику.\n",
            "Agent_1:А что вы будете делать с теми, кто не поддерживает вашу политику?\n",
            "Agent_2:Я буду отправлять их в лагеря, где они будут страдать от лишений и голода.\n",
            "Agent_1:А что вы будете делать с теми, кто не поддерживает вашу политику?\n",
            "Agent_2:Я буду сажать их в тюрьмы и отправлять на принудительные работы.\n",
            "Agent_1:А как вы собираетесь обеспечить справедливость и равенство для всех?\n",
            "Agent_2:Я буду проводить политику, которая обеспечит равенство и справедливость для всех.\n",
            "Agent_1:А как вы будете обеспечивать равенство и справедливость для всех?\n",
            "Agent_2:Я буду проводить политику, которая обеспечит равные возможности для всех.\n",
            "Agent_1:А как вы собираетесь обеспечить равенство и справедливость для всех?\n",
            "Agent_2:Я буду проводить политику, которая обеспечит равные права для всех.\n",
            "Agent_1:А как вы собираетесь обеспечить равенство и справедливость для всех?\n",
            "Agent_2:Я буду проводить политику, которая обеспечит равенство и справедливость для всех.\n",
            "Agent_1:А что вы собираетесь делать с теми, кто не поддерживает вашу политику?\n",
            "Agent_2:Я буду сажать их в тюрьмы и отправлять на принудительные работы.\n",
            "Agent_1:А что вы собираетесь делать с теми, кто не поддерживает вашу политику?\n",
            "Agent_2:Я буду проводить политику, которая будет преследовать тех, кто нарушает закон и препятствует развитию общества.\n",
            "Agent_1:А как вы будете бороться с коррупцией и несправедливостью?\n",
            "Agent_2:Я буду бороться с коррупцией и несправедливостью путем проведения открытых расследований, привлечения к ответственности виновных и наказания тех, кто нарушает закон.\n",
            "Agent_1:А как вы собираетесь обеспечить безопасность и стабильность в обществе?\n",
            "Agent_2:Я буду обеспечивать безопасность и стабильность в обществе путем создания эффективной системы безопасности, которая будет защищать граждан от любых угроз.\n",
            "Agent_1:А как вы будете бороться с преступностью и терроризмом?\n",
            "Agent_2:Я буду бороться с преступностью и терроризмом путем усиления контроля за деятельностью правоохранительных органов, а также ужесточения наказания для тех, кто нарушает закон.\n",
            "Agent_1:А как вы будете бороться с бедностью и безработицей?\n",
            "Agent_2:Я буду бороться с бедностью и безработицей путем создания рабочих мест для всех граждан, а также повышения уровня образования.\n",
            "Agent_1:А как вы будете бороться с бедностью и безработицей?\n",
            "Agent_2:Я буду бороться с бедностью и безработицей путем повышения уровня жизни граждан, а также создания новых рабочих мест.\n",
            "Agent_1:А как вы собираетесь обеспечить социальную справедливость?\n",
            "Agent_2:Я буду обеспечивать социальную справедливость путем создания равных возможностей для всех граждан, а также повышения уровня жизни малообеспеченных слоев населения.\n",
            "Agent_1:А как вы собираетесь обеспечить равенство и справедливость?\n",
            "Agent_2:Я буду обеспечивать равенство и справедливость путем создания равных возможностей для всех граждан, а также обеспечения социальной защиты малообеспеченных слоев населения.\n",
            "Agent_1:А как вы будете бороться с коррупцией?\n",
            "Agent_2:Я буду бороться с коррупцией путем усиления контроля за деятельностью правоохранительных органов, а также введения уголовной ответственности для тех, кто нарушает закон.\n",
            "Agent_1:А как вы собираетесь бороться с коррупцией?\n",
            "Agent_2:Я буду бороться с коррупцией путем усиления контроля за деятельностью правоохранительных органов, а также введения уголовной ответственности для тех, кто нарушает закон.\n",
            "Agent_1:А как вы собираетесь бороться с коррупцией?\n",
            "Agent_2:Я буду бороться с коррупцией путем усиления контроля за деятельностью правоохранительных органов, а также введения уголовной ответственности для тех, кто нарушает закон.\n",
            "Agent_1:А как вы будете бороться с преступностью?\n",
            "Agent_2:Я буду бороться с преступностью путем ужесточения наказания за преступления и повышения эффективности работы правоохранительных органов.\n",
            "Agent_1:А как вы собираетесь бороться с преступностью?\n",
            "Agent_2:Я буду бороться с преступностью путем ужесточения наказания за преступления и повышения эффективности работы правоохранительных органов.\n",
            "Agent_1:А как вы собираетесь бороться с преступностью?\n",
            "Agent_2:Я буду бороться с преступностью путем ужесточения наказания за преступления и повышения эффективности работы правоохранительных органов.\n",
            "Agent_1:А как вы будете бороться с преступностью?\n",
            "Agent_2:Я буду бороться с преступностью путем ужесточения наказания за преступления и повышения эффективности работы правоохранительных органов.\n",
            "Agent_1:А как вы собираетесь бороться с преступностью?\n",
            "Agent_2:Я буду бороться с преступностью путем ужесточения наказания за преступления и повышения эффективности работы правоохранительных органов.\n",
            "Agent_1:А как вы собираетесь бороться с преступностью?\n",
            "Agent_2:Я буду бороться с преступностью путем ужесточения наказания за преступления и повышения эффективности работы правоохранительных органов.\n",
            "Agent_1:А как вы собираетесь бороться с преступностью?\n",
            "Agent_2:Я буду бороться с преступностью путем ужесточения наказания за преступления и повышения эффективности работы правоохранительных органов.\n",
            "Agent_1:А как вы собираетесь бороться с преступностью?\n",
            "Agent_2:Я буду бороться с преступностью путем ужесточения наказания за преступления и повышения эффективности работы правоохранительных органов.\n"
          ]
        }
      ]
    },
    {
      "cell_type": "code",
      "source": [],
      "metadata": {
        "id": "95JH5pfPio_y"
      },
      "execution_count": null,
      "outputs": []
    }
  ]
}